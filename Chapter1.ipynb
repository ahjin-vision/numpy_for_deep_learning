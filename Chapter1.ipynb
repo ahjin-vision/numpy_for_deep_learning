{
  "nbformat": 4,
  "nbformat_minor": 0,
  "metadata": {
    "colab": {
      "name": "Chapter1.ipynb",
      "provenance": [],
      "authorship_tag": "ABX9TyP/2o0czcPUAid+D2OtC7ue",
      "include_colab_link": true
    },
    "kernelspec": {
      "name": "python3",
      "display_name": "Python 3"
    }
  },
  "cells": [
    {
      "cell_type": "markdown",
      "metadata": {
        "id": "view-in-github",
        "colab_type": "text"
      },
      "source": [
        "<a href=\"https://colab.research.google.com/github/ahjin-vision/numpy_for_deep_learning/blob/main/Chapter1.ipynb\" target=\"_parent\"><img src=\"https://colab.research.google.com/assets/colab-badge.svg\" alt=\"Open In Colab\"/></a>"
      ]
    },
    {
      "cell_type": "markdown",
      "metadata": {
        "id": "PDY-mjaOqQPf"
      },
      "source": [
        "#1. Chapter 1. 파이썬과 넘파이 모듈 차이점 이해하기 "
      ]
    },
    {
      "cell_type": "markdown",
      "metadata": {
        "id": "GtXF4VoHq-Jg"
      },
      "source": [
        "##1. 배열구조 이해하기"
      ]
    },
    {
      "cell_type": "code",
      "metadata": {
        "id": "i2yBOOAu23J2"
      },
      "source": [
        "l = [1, 2, 3]\r\n",
        "l = [[1, 2, 3], [4, 5, 6]]"
      ],
      "execution_count": null,
      "outputs": []
    },
    {
      "cell_type": "code",
      "metadata": {
        "colab": {
          "base_uri": "https://localhost:8080/"
        },
        "id": "cay9oQTe2-Uq",
        "outputId": "fcf45dd4-0329-440d-91cf-151bb6fb87bb"
      },
      "source": [
        "for i, a in enumerate(l):\r\n",
        "    for j, b in enumerate(a):\r\n",
        "        print(l[i][j])"
      ],
      "execution_count": null,
      "outputs": [
        {
          "output_type": "stream",
          "text": [
            "1\n",
            "2\n",
            "3\n",
            "4\n",
            "5\n",
            "6\n"
          ],
          "name": "stdout"
        }
      ]
    },
    {
      "cell_type": "code",
      "metadata": {
        "colab": {
          "base_uri": "https://localhost:8080/",
          "height": 34
        },
        "id": "xy_3amHf2_B4",
        "outputId": "f6c69619-fce5-4f14-a917-f97aec178cc2"
      },
      "source": [
        "import numpy as np\r\n",
        "np.__version__"
      ],
      "execution_count": null,
      "outputs": [
        {
          "output_type": "execute_result",
          "data": {
            "application/vnd.google.colaboratory.intrinsic+json": {
              "type": "string"
            },
            "text/plain": [
              "'1.19.5'"
            ]
          },
          "metadata": {
            "tags": []
          },
          "execution_count": 8
        }
      ]
    },
    {
      "cell_type": "code",
      "metadata": {
        "colab": {
          "base_uri": "https://localhost:8080/"
        },
        "id": "LIwH_lGe83oM",
        "outputId": "58a1da8b-2cf8-4417-eaff-f49ef5543377"
      },
      "source": [
        "for i in dir(np.ndarray):\r\n",
        "    if not i.startswith(\"_\"):\r\n",
        "        if type(np.ndarray.__dict__[i]) != type(np.ndarray.var):\r\n",
        "            print(i)"
      ],
      "execution_count": null,
      "outputs": [
        {
          "output_type": "stream",
          "text": [
            "T\n",
            "base\n",
            "ctypes\n",
            "data\n",
            "dtype\n",
            "flags\n",
            "flat\n",
            "imag\n",
            "itemsize\n",
            "nbytes\n",
            "ndim\n",
            "real\n",
            "shape\n",
            "size\n",
            "strides\n"
          ],
          "name": "stdout"
        }
      ]
    },
    {
      "cell_type": "code",
      "metadata": {
        "colab": {
          "base_uri": "https://localhost:8080/"
        },
        "id": "mMuCh6lZA9k1",
        "outputId": "ea0fa6a2-5c41-4057-e076-c8939f589068"
      },
      "source": [
        "l = [1, 2, 3, 4]\r\n",
        "a = np.array(l)   # list -> ndarray\r\n",
        "a          # >> array([1, 2, 3, 4]); 저장된 다차원배열 반환\r\n",
        "type(a)    # >> numpy.ndarray: 클래스 확인\r\n",
        "\r\n",
        "# 데이터를 관리하는 속성\r\n",
        "a.data     # >> <memory at 0x7f207bf5d1f0>: 메모리에 저장된 레퍼런스 출력\r\n",
        "a.data.obj # >> array([1, 2, 3, 4]): 다차원배열의 값 반환\r\n",
        "type(a.data)        # >> memoryview\r\n",
        "type(a.data.obj)    # >> numpy.ndarray"
      ],
      "execution_count": null,
      "outputs": [
        {
          "output_type": "execute_result",
          "data": {
            "text/plain": [
              "numpy.ndarray"
            ]
          },
          "metadata": {
            "tags": []
          },
          "execution_count": 20
        }
      ]
    },
    {
      "cell_type": "code",
      "metadata": {
        "id": "MDCDc7dcEER4",
        "colab": {
          "base_uri": "https://localhost:8080/"
        },
        "outputId": "9ae253ff-3f39-4448-fa38-3be7030b7435"
      },
      "source": [
        "# 새로운 변수에 할당 후 갱신\r\n",
        "b = a       # 다차원배열을 새 변수에 할당\r\n",
        "b[0] = 100  # 새 변수에 저장된 첫번째 원소 갱신 \r\n",
        "b           # >> array([100,   2,   3,   4])\r\n",
        "a           # >> array([100,   2,   3,   4]): 원본 다차원배열까지 갱신됨. "
      ],
      "execution_count": null,
      "outputs": [
        {
          "output_type": "execute_result",
          "data": {
            "text/plain": [
              "array([100,   2,   3,   4])"
            ]
          },
          "metadata": {
            "tags": []
          },
          "execution_count": 19
        }
      ]
    },
    {
      "cell_type": "code",
      "metadata": {
        "colab": {
          "base_uri": "https://localhost:8080/"
        },
        "id": "2RPFVvqiHCwE",
        "outputId": "851928aa-82b3-43d1-e326-b81ce5652799"
      },
      "source": [
        "# 복사 후 갱신\r\n",
        "c = np.array(a)   # 다차원배열의 객체를 array함수에 넣어서 새 다차원배열 생성. \r\n",
        "c[0] = 99         # 새 다차원배열에 저장된 첫번째 원소 갱신. \r\n",
        "c                 # >> array([99,  2,  3,  4])\r\n",
        "a                 # >> array([1, 2, 3, 4]): 원본 다차원배열 유지. "
      ],
      "execution_count": null,
      "outputs": [
        {
          "output_type": "execute_result",
          "data": {
            "text/plain": [
              "array([1, 2, 3, 4])"
            ]
          },
          "metadata": {
            "tags": []
          },
          "execution_count": 22
        }
      ]
    },
    {
      "cell_type": "code",
      "metadata": {
        "colab": {
          "base_uri": "https://localhost:8080/"
        },
        "id": "caWBwpJ_Hh6r",
        "outputId": "70fa90c0-0a14-4d6f-b4ea-493db7ba5ead"
      },
      "source": [
        "d = np.array(l, dtype=np.float)\r\n",
        "d"
      ],
      "execution_count": null,
      "outputs": [
        {
          "output_type": "execute_result",
          "data": {
            "text/plain": [
              "array([1., 2., 3., 4.])"
            ]
          },
          "metadata": {
            "tags": []
          },
          "execution_count": 23
        }
      ]
    },
    {
      "cell_type": "code",
      "metadata": {
        "colab": {
          "base_uri": "https://localhost:8080/"
        },
        "id": "9v7UDk04KDL0",
        "outputId": "24378ab4-dcbb-4090-af6b-7577952e0e3a"
      },
      "source": [
        "a2 = np.array([[1, 2, 3], [4, 5, 6]])\r\n",
        "a2.shape          # >> (2, 3): 원소의 개수 조회. 2개의 축을 가지므로 2개의 원소를 가진 튜플로 반환. \r\n",
        "a2.ndim           # >> 2: 축의 개수 조회. 2개의 축을 가지므로 2차원이라는 뜻. \r\n",
        "a2.dtype          # >> dtype('int64'): 배열이 구성된 클래스 확인 \r\n",
        "a2.itemsize       # >> 8: 원소의 byte 단위 조회. 8byte = 64bit (1 byte = 8 bit)\r\n",
        "a2.size           # >> 6: 모든 원소의 개수 조회. \r\n",
        "a2.strides        # >> (24, 8): 배열을 확장할 때의 기준정보 조회. (하나의 행의 전체 크기(길이), 하나의 원소의 크기)"
      ],
      "execution_count": null,
      "outputs": [
        {
          "output_type": "execute_result",
          "data": {
            "text/plain": [
              "(24, 8)"
            ]
          },
          "metadata": {
            "tags": []
          },
          "execution_count": 30
        }
      ]
    },
    {
      "cell_type": "code",
      "metadata": {
        "colab": {
          "base_uri": "https://localhost:8080/"
        },
        "id": "DJ7iXS0hNG3u",
        "outputId": "7ce75bdc-65c2-479a-8727-ae64fc54d742"
      },
      "source": [
        "# 1차원 배열의 원소 검색: 하나의 원소 검색 \r\n",
        "# 색인연산자인 대괄호 안에 정수 전달\r\n",
        "l = [1, 2, 3, 4]      # 리스트\r\n",
        "a = np.array(l)       # 다차원배열\r\n",
        "\r\n",
        "print(l[0])\r\n",
        "print(a[0]) "
      ],
      "execution_count": null,
      "outputs": [
        {
          "output_type": "stream",
          "text": [
            "1\n",
            "1\n"
          ],
          "name": "stdout"
        }
      ]
    },
    {
      "cell_type": "code",
      "metadata": {
        "colab": {
          "base_uri": "https://localhost:8080/"
        },
        "id": "lY8-l45vzqmO",
        "outputId": "5c0d0541-022d-4f5d-8669-d9ac54aaa6f7"
      },
      "source": [
        "# 2차원 배열의 원소 검색: 하나의 원소 검색\r\n",
        "l2 = [[1, 2, 3], [4, 5, 6]]\r\n",
        "a2 = np.array(l2)\r\n",
        "\r\n",
        "# 2차원 리스트의 원소 검색: 색인연산 2번 사용 \r\n",
        "print(l2[0][1])\r\n",
        "\r\n",
        "# 2차원배열의 원소검색: 색인연산자인 대괄호 안에 행과 열의 인덱스를 튜플(쉼표로 구분해서. 튜플괄호는 생략 可)로 전달 \r\n",
        "print(a2[0, 1])\r\n",
        "print(type(a2[0, 1]))         # >> <class 'numpy.int64'> <- 넘파이모듈의 정수 클래스 \r\n",
        "print(a2[0, 1].item())\r\n",
        "print(type(a2[0, 1].item()))  # >> <class 'int'>         <- 파이썬 정수 클래스"
      ],
      "execution_count": null,
      "outputs": [
        {
          "output_type": "stream",
          "text": [
            "2\n",
            "2\n",
            "<class 'numpy.int64'>\n",
            "2\n",
            "<class 'int'>\n"
          ],
          "name": "stdout"
        }
      ]
    },
    {
      "cell_type": "code",
      "metadata": {
        "id": "XO65UOXgztFX",
        "colab": {
          "base_uri": "https://localhost:8080/"
        },
        "outputId": "4c4f721b-b191-4b5c-ba6e-8c908775d07f"
      },
      "source": [
        "import numpy as np\r\n",
        "a = np.array([1, 2, 3, 4])\r\n",
        "a.data           # >> <memory at 0x7fd6d732bc80>: 메모리에 저장된 객체 정보\r\n",
        "\r\n",
        "b = memoryview(a)\r\n",
        "b                # >> <memory at 0x7fd6cea3cae0>"
      ],
      "execution_count": null,
      "outputs": [
        {
          "output_type": "execute_result",
          "data": {
            "text/plain": [
              "<memory at 0x7f053a50fae0>"
            ]
          },
          "metadata": {
            "tags": []
          },
          "execution_count": 2
        }
      ]
    },
    {
      "cell_type": "code",
      "metadata": {
        "colab": {
          "base_uri": "https://localhost:8080/"
        },
        "id": "Z3Sc1AA040uz",
        "outputId": "2ecea44c-62f1-4e98-86a4-c3286e46b86e"
      },
      "source": [
        "a.dtype"
      ],
      "execution_count": null,
      "outputs": [
        {
          "output_type": "execute_result",
          "data": {
            "text/plain": [
              "dtype('int64')"
            ]
          },
          "metadata": {
            "tags": []
          },
          "execution_count": 3
        }
      ]
    },
    {
      "cell_type": "code",
      "metadata": {
        "colab": {
          "base_uri": "https://localhost:8080/"
        },
        "id": "60ve-yX_7b27",
        "outputId": "cc152c72-4b71-4e8b-e57f-1764860b7a18"
      },
      "source": [
        "a.itemsize"
      ],
      "execution_count": null,
      "outputs": [
        {
          "output_type": "execute_result",
          "data": {
            "text/plain": [
              "8"
            ]
          },
          "metadata": {
            "tags": []
          },
          "execution_count": 4
        }
      ]
    },
    {
      "cell_type": "code",
      "metadata": {
        "colab": {
          "base_uri": "https://localhost:8080/",
          "height": 35
        },
        "id": "DNKuU0i17c2p",
        "outputId": "65b4a7b8-7db5-46fd-e43a-bfa71fd6c5b3"
      },
      "source": [
        "a.data.hex()"
      ],
      "execution_count": null,
      "outputs": [
        {
          "output_type": "execute_result",
          "data": {
            "application/vnd.google.colaboratory.intrinsic+json": {
              "type": "string"
            },
            "text/plain": [
              "'0100000000000000020000000000000003000000000000000400000000000000'"
            ]
          },
          "metadata": {
            "tags": []
          },
          "execution_count": 5
        }
      ]
    },
    {
      "cell_type": "code",
      "metadata": {
        "colab": {
          "base_uri": "https://localhost:8080/"
        },
        "id": "RSTM8zKRhDB7",
        "outputId": "67b08989-8f5e-4356-b686-86d10d770877"
      },
      "source": [
        "len(a.data.tobytes())"
      ],
      "execution_count": null,
      "outputs": [
        {
          "output_type": "execute_result",
          "data": {
            "text/plain": [
              "32"
            ]
          },
          "metadata": {
            "tags": []
          },
          "execution_count": 8
        }
      ]
    },
    {
      "cell_type": "code",
      "metadata": {
        "colab": {
          "base_uri": "https://localhost:8080/"
        },
        "id": "8n4uFDSDkOCW",
        "outputId": "51a21537-7621-4b1d-cd4b-7d92fbfe4792"
      },
      "source": [
        "original = np.array([1, 2, 3, 4], dtype=np.float_)\r\n",
        "frombuffer = np.frombuffer(original)    # 배열을 복사하지 않고 공유하기. 자료형을 지정하지 않은 배열을 인자로 넘기면 값이 다르게 표현됨. \r\n",
        "\r\n",
        "# 같은 배열을 공유하는지 확인\r\n",
        "print(original, frombuffer)  # >> [1. 2. 3. 4.] [1. 2. 3. 4.]\r\n",
        "\r\n",
        "# frombuffer()의 특징\r\n",
        "frombuffer.flags             # >> OWNDATA: False :스스로가 원본이 아닌 view임을 뜻함. \r\n",
        "frombuffer[0] = 100\r\n",
        "print(original, frombuffer)  # frombuffer 갱신 시 원본데이터도 같이 갱신됨. \r\n",
        "\r\n",
        "base = frombuffer.base       # .base 속성으로 원본데이터를 메모리에 저장\r\n",
        "base is original             # >> True: 원본배열과 레퍼런스가 같은지 확인\r\n",
        "base.flags                   # >> OWNDATA: True \r\n",
        "print(original, frombuffer, base)    # >> [100.   2.   3.   4.] [100.   2.   3.   4.] [100.   2.   3.   4.]\r\n",
        "base[0] = 50\r\n",
        "print(original, frombuffer, base)    # >> [50.  2.  3.  4.] [50.  2.  3.  4.] [50.  2.  3.  4.]  ?????????"
      ],
      "execution_count": null,
      "outputs": [
        {
          "output_type": "stream",
          "text": [
            "[1. 2. 3. 4.] [1. 2. 3. 4.]\n",
            "[100.   2.   3.   4.] [100.   2.   3.   4.]\n",
            "[100.   2.   3.   4.] [100.   2.   3.   4.] [100.   2.   3.   4.]\n",
            "[50.  2.  3.  4.] [50.  2.  3.  4.] [50.  2.  3.  4.]\n"
          ],
          "name": "stdout"
        }
      ]
    },
    {
      "cell_type": "markdown",
      "metadata": {
        "id": "KSG2QNUOvLk8"
      },
      "source": [
        "##2. 넘파이 모듈 함수의 특징"
      ]
    },
    {
      "cell_type": "code",
      "metadata": {
        "colab": {
          "base_uri": "https://localhost:8080/",
          "height": 190
        },
        "id": "TlXFnaHv9Fac",
        "outputId": "209b2eef-7169-4700-f044-556433c21272"
      },
      "source": [
        "a = np.zeros((2, 3), dtype=np.int_)\r\n",
        "a != 0"
      ],
      "execution_count": null,
      "outputs": [
        {
          "output_type": "error",
          "ename": "NameError",
          "evalue": "ignored",
          "traceback": [
            "\u001b[0;31m---------------------------------------------------------------------------\u001b[0m",
            "\u001b[0;31mNameError\u001b[0m                                 Traceback (most recent call last)",
            "\u001b[0;32m<ipython-input-1-956ba622d6eb>\u001b[0m in \u001b[0;36m<module>\u001b[0;34m()\u001b[0m\n\u001b[0;32m----> 1\u001b[0;31m \u001b[0ma\u001b[0m \u001b[0;34m=\u001b[0m \u001b[0mnp\u001b[0m\u001b[0;34m.\u001b[0m\u001b[0mzeros\u001b[0m\u001b[0;34m(\u001b[0m\u001b[0;34m(\u001b[0m\u001b[0;36m2\u001b[0m\u001b[0;34m,\u001b[0m \u001b[0;36m3\u001b[0m\u001b[0;34m)\u001b[0m\u001b[0;34m,\u001b[0m \u001b[0mdtype\u001b[0m\u001b[0;34m=\u001b[0m\u001b[0mnp\u001b[0m\u001b[0;34m.\u001b[0m\u001b[0mint_\u001b[0m\u001b[0;34m)\u001b[0m\u001b[0;34m\u001b[0m\u001b[0;34m\u001b[0m\u001b[0m\n\u001b[0m\u001b[1;32m      2\u001b[0m \u001b[0ma\u001b[0m \u001b[0;34m!=\u001b[0m \u001b[0;36m0\u001b[0m\u001b[0;34m\u001b[0m\u001b[0;34m\u001b[0m\u001b[0m\n",
            "\u001b[0;31mNameError\u001b[0m: name 'np' is not defined"
          ]
        }
      ]
    },
    {
      "cell_type": "code",
      "metadata": {
        "colab": {
          "base_uri": "https://localhost:8080/",
          "height": 190
        },
        "id": "VSsS_t0h9Kv5",
        "outputId": "5cb34af1-67d3-4873-aa09-a763719e662f"
      },
      "source": [
        "(a != 0).any\r\n",
        "np.any"
      ],
      "execution_count": null,
      "outputs": [
        {
          "output_type": "error",
          "ename": "NameError",
          "evalue": "ignored",
          "traceback": [
            "\u001b[0;31m---------------------------------------------------------------------------\u001b[0m",
            "\u001b[0;31mNameError\u001b[0m                                 Traceback (most recent call last)",
            "\u001b[0;32m<ipython-input-2-229ff8d1251c>\u001b[0m in \u001b[0;36m<module>\u001b[0;34m()\u001b[0m\n\u001b[0;32m----> 1\u001b[0;31m \u001b[0;34m(\u001b[0m\u001b[0ma\u001b[0m \u001b[0;34m!=\u001b[0m \u001b[0;36m0\u001b[0m\u001b[0;34m)\u001b[0m\u001b[0;34m.\u001b[0m\u001b[0many\u001b[0m\u001b[0;34m\u001b[0m\u001b[0;34m\u001b[0m\u001b[0m\n\u001b[0m\u001b[1;32m      2\u001b[0m \u001b[0mnp\u001b[0m\u001b[0;34m.\u001b[0m\u001b[0many\u001b[0m\u001b[0;34m\u001b[0m\u001b[0;34m\u001b[0m\u001b[0m\n",
            "\u001b[0;31mNameError\u001b[0m: name 'a' is not defined"
          ]
        }
      ]
    },
    {
      "cell_type": "code",
      "metadata": {
        "id": "zIO47bQkJfSi"
      },
      "source": [
        "numpy_module = set(dir(np))\r\n",
        "ndarray_class = set(dir(np.ndarray))\r\n",
        "interjection = numpy_module & ndarray_class\r\n",
        "\r\n",
        "# 동일한 함수/메소드 이름을 가진 것들의 수: \r\n",
        "len(interjection)   # >> 48 \r\n",
        "\r\n",
        "# 출력 \r\n",
        "count = 0\r\n",
        "for i in list(interjection):\r\n",
        "    count += 1\r\n",
        "    print(i, end= \" \")\r\n",
        "    if count % 5 == 0:\r\n",
        "        print()"
      ],
      "execution_count": null,
      "outputs": []
    },
    {
      "cell_type": "code",
      "metadata": {
        "id": "OchW5POpMIKa"
      },
      "source": [
        "set(dir(np))"
      ],
      "execution_count": null,
      "outputs": []
    },
    {
      "cell_type": "code",
      "metadata": {
        "id": "KQx83JBtMI-6",
        "colab": {
          "base_uri": "https://localhost:8080/"
        },
        "outputId": "c12d3330-93cb-425e-ed86-68e4f20d1e28"
      },
      "source": [
        "# 일반함수에는 없고 유니버설 함수에만 있는 속성이나 메소드 확인하기 \r\n",
        "import numpy as np \r\n",
        "\r\n",
        "set(dir(np.add)) - set(dir(np.sort))"
      ],
      "execution_count": null,
      "outputs": [
        {
          "output_type": "execute_result",
          "data": {
            "text/plain": [
              "{'accumulate',\n",
              " 'at',\n",
              " 'identity',\n",
              " 'nargs',\n",
              " 'nin',\n",
              " 'nout',\n",
              " 'ntypes',\n",
              " 'outer',\n",
              " 'reduce',\n",
              " 'reduceat',\n",
              " 'signature',\n",
              " 'types'}"
            ]
          },
          "metadata": {
            "tags": []
          },
          "execution_count": 3
        }
      ]
    },
    {
      "cell_type": "markdown",
      "metadata": {
        "id": "cIB4YDp0xJi6"
      },
      "source": [
        "차원 추가하기: 실제 축을 하나 추가하는 것.\r\n",
        "1. np.newaxis\r\n",
        "2. .reshape( )\r\n"
      ]
    },
    {
      "cell_type": "code",
      "metadata": {
        "colab": {
          "base_uri": "https://localhost:8080/"
        },
        "id": "XMHKgBXJuGAw",
        "outputId": "8f066c88-2647-4ab9-f393-08d136ef8e40"
      },
      "source": [
        "# 차원 추가하기: \r\n",
        "# np.newaxis: 축을 하나 추가하는 것.\r\n",
        "\r\n",
        "# 1차원 배열 -(수평축 하나 추가)-> 2차원 배열\r\n",
        "a = np.arange(6, 10)\r\n",
        "b = np.arange(10, 14)\r\n",
        "c = a[:, np.newaxis]\r\n",
        "print(c.shape)\r\n",
        ">>> (4, 1)\r\n",
        "\r\n",
        "# 1차원 배열 -(수직축 하나 추가)-> 2차원 배열\r\n",
        "d = b[np.newaxis, :]\r\n",
        "print(d.shape)\r\n",
        ">>> (1, 4)"
      ],
      "execution_count": null,
      "outputs": [
        {
          "output_type": "stream",
          "text": [
            "(4, 1)\n",
            "[[6]\n",
            " [7]\n",
            " [8]\n",
            " [9]]\n",
            "(1, 4)\n",
            "[[10 11 12 13]]\n"
          ],
          "name": "stdout"
        }
      ]
    },
    {
      "cell_type": "code",
      "metadata": {
        "colab": {
          "base_uri": "https://localhost:8080/"
        },
        "id": "SZV4v2zAxUqK",
        "outputId": "207985c7-9e6a-47ee-e15f-7d7b70e9abd3"
      },
      "source": [
        "# .reshape() 이용하는 방법 \r\n",
        "\r\n",
        "a = np.arange(1, 7)\r\n",
        "a = a.reshape(2, 3)\r\n",
        "a"
      ],
      "execution_count": null,
      "outputs": [
        {
          "output_type": "execute_result",
          "data": {
            "text/plain": [
              "array([[1, 2, 3],\n",
              "       [4, 5, 6]])"
            ]
          },
          "metadata": {
            "tags": []
          },
          "execution_count": 20
        }
      ]
    },
    {
      "cell_type": "markdown",
      "metadata": {
        "id": "GV_jcXDR7oxx"
      },
      "source": [
        "## 3. 배열 할당과 검색"
      ]
    },
    {
      "cell_type": "code",
      "metadata": {
        "colab": {
          "base_uri": "https://localhost:8080/"
        },
        "id": "_0wVvFgHmXEC",
        "outputId": "0781d08d-953e-4fca-cfe8-de8905d8239c"
      },
      "source": [
        "a = np.array([[1, 2], [3, 4]])\r\n",
        "print('원본배열', '\\n',  a)\r\n",
        "\r\n",
        "# alias\r\n",
        "b = a\r\n",
        "print('alias', '\\n', b)\r\n",
        "print('원본배열 레퍼런스와 alias 레퍼런스 비교: ', a is b)  # true. b가 갱신되면 a도 갱신됨. \r\n",
        "\r\n",
        "# 부분배열\r\n",
        "c = a[:]\r\n",
        "print('부분배열', '\\n', c)\r\n",
        "print('원본배열 레퍼런스와 부분배열 레퍼런스 비교: ', a is c)  # false. but c가 갱신되면 a 갱신 \r\n",
        "\r\n",
        "# 사본\r\n",
        "d = a.copy()\r\n",
        "print('사본', '\\n', d)\r\n",
        "print('원본배열 레퍼런스와 사본 레퍼런스 비교: ', a is d)  # false. c가 갱신되더라도 a는 갱신되지 않음. "
      ],
      "execution_count": null,
      "outputs": [
        {
          "output_type": "stream",
          "text": [
            "원본배열 \n",
            " [[1 2]\n",
            " [3 4]]\n",
            "alias \n",
            " [[1 2]\n",
            " [3 4]]\n",
            "원본배열 레퍼런스와 alias 레퍼런스 비교:  True\n",
            "부분배열 \n",
            " [[1 2]\n",
            " [3 4]]\n",
            "원본배열 레퍼런스와 부분배열 레퍼런스 비교:  False\n",
            "사본 \n",
            " [[1 2]\n",
            " [3 4]]\n",
            "원본배열 레퍼런스와 사본 레퍼런스 비교:  False\n"
          ],
          "name": "stdout"
        }
      ]
    },
    {
      "cell_type": "code",
      "metadata": {
        "colab": {
          "base_uri": "https://localhost:8080/"
        },
        "id": "EeON7nV1oVd5",
        "outputId": "e8f0fe31-c82d-429f-d791-783e30d1ed88"
      },
      "source": [
        "b[1][1] = 10\r\n",
        "print(b)\r\n",
        "print(a)\r\n",
        "\r\n",
        "\r\n",
        "c[1][1] = 99\r\n",
        "print(c)\r\n",
        "print(a)\r\n",
        "\r\n",
        "d[1][1] = 100\r\n",
        "print(d)\r\n",
        "print(a)"
      ],
      "execution_count": null,
      "outputs": [
        {
          "output_type": "stream",
          "text": [
            "[[ 1  2]\n",
            " [ 3 10]]\n",
            "[[ 1  2]\n",
            " [ 3 10]]\n",
            "[[ 1  2]\n",
            " [ 3 99]]\n",
            "[[ 1  2]\n",
            " [ 3 99]]\n",
            "[[  1   2]\n",
            " [  3 100]]\n",
            "[[ 1  2]\n",
            " [ 3 99]]\n"
          ],
          "name": "stdout"
        }
      ]
    },
    {
      "cell_type": "code",
      "metadata": {
        "colab": {
          "base_uri": "https://localhost:8080/"
        },
        "id": "79idlb-JmipY",
        "outputId": "379711fa-6843-43b5-d895-deed4d839641"
      },
      "source": [
        "# base 확인: 부분배열은 원본배열의 view를 제공한다. \r\n",
        "print('alias의 base', '\\n', b.base)\r\n",
        "print('alias의 base 레퍼런스와 원본레퍼런스 비교', '\\n', a is b.base)  # false\r\n",
        "\r\n",
        "print('부분배열의 base', '\\n', c.base)\r\n",
        "print('부분배열의 base 레퍼런스와 원본레퍼런스 비교', '\\n', a is c.base) # true\r\n",
        "\r\n",
        "print('사본의 base', '\\n', d.base)\r\n",
        "print('사본의 base 레퍼런스와 원본레퍼런스 비교', '\\n', a is d.base)    # false"
      ],
      "execution_count": null,
      "outputs": [
        {
          "output_type": "stream",
          "text": [
            "alias의 base \n",
            " None\n",
            "alias의 base 레퍼런스와 원본레퍼런스 비교 \n",
            " False\n",
            "부분배열의 base \n",
            " [[1 2]\n",
            " [3 4]]\n",
            "부분배열의 base 레퍼런스와 원본레퍼런스 비교 \n",
            " True\n",
            "사본의 base \n",
            " None\n",
            "사본의 base 레퍼런스와 원본레퍼런스 비교 \n",
            " False\n"
          ],
          "name": "stdout"
        }
      ]
    },
    {
      "cell_type": "code",
      "metadata": {
        "colab": {
          "base_uri": "https://localhost:8080/"
        },
        "id": "nn0OUbFsn_3f",
        "outputId": "f10f88f4-cb9a-4efe-fb5e-53f8440b7a39"
      },
      "source": [
        "# view: 원본 배열을 슬라이싱 핳 때 새로운 객체가 생기지만 데이터는 원본과 공유한다. \r\n",
        "arr = np.arange(8).reshape(2, 4)\r\n",
        "print('원본배열', '\\n', arr)\r\n",
        "\r\n",
        "sliced_arr = arr[0]\r\n",
        "print('부분배열', '\\n', sliced_arr) \r\n",
        "\r\n",
        "# 부분배열은 복사가 아니라 참조이기 때문에 갱신시 원본도 갱신됨. (원본 갱신시에도 부분배열 갱신)\r\n",
        "# 리스트의 슬라이싱은 복사! \r\n",
        "arr[0] = 10\r\n",
        "print('원본배열', '\\n', arr)\r\n",
        "print('부분배열', '\\n', sliced_arr) "
      ],
      "execution_count": null,
      "outputs": [
        {
          "output_type": "stream",
          "text": [
            "원본배열 \n",
            " [[0 1 2 3]\n",
            " [4 5 6 7]]\n",
            "부분배열 \n",
            " [0 1 2 3]\n",
            "원본배열 \n",
            " [[10 10 10 10]\n",
            " [ 4  5  6  7]]\n",
            "부분배열 \n",
            " [10 10 10 10]\n"
          ],
          "name": "stdout"
        }
      ]
    },
    {
      "cell_type": "code",
      "metadata": {
        "colab": {
          "base_uri": "https://localhost:8080/"
        },
        "id": "VCtgUOPb-6WO",
        "outputId": "2809f520-7e8f-4c66-8433-34aea24a8b10"
      },
      "source": [
        "arr_copy1 = arr[0].copy()\r\n",
        "arr_copy2 = np.array(arr[0], copy=True)\r\n",
        "\r\n",
        "arr[0] = 100\r\n",
        "print('원본배열', '\\n', arr)\r\n",
        "print('부분배열복사1', '\\n', arr_copy1) \r\n",
        "print('부분배열복사2', '\\n', arr_copy2) \r\n",
        "\r\n",
        "# view 만들기 2: \r\n",
        "arr_view = arr.view()\r\n",
        "np.may_share_memory(arr, arr_view)"
      ],
      "execution_count": null,
      "outputs": [
        {
          "output_type": "stream",
          "text": [
            "원본배열 \n",
            " [[100. 100. 100. 100.]\n",
            " [  1.   1.   1.   1.]\n",
            " [  1.   1.   1.   1.]]\n",
            "부분배열복사1 \n",
            " [100. 100. 100. 100.]\n",
            "부분배열복사2 \n",
            " [100. 100. 100. 100.]\n"
          ],
          "name": "stdout"
        },
        {
          "output_type": "execute_result",
          "data": {
            "text/plain": [
              "True"
            ]
          },
          "metadata": {
            "tags": []
          },
          "execution_count": 81
        }
      ]
    },
    {
      "cell_type": "code",
      "metadata": {
        "colab": {
          "base_uri": "https://localhost:8080/"
        },
        "id": "YAiNM6_GAGwL",
        "outputId": "e592251d-da7b-4d2d-e714-12d668863af8"
      },
      "source": [
        "# cf. np.asarray() vs np.array()\r\n",
        "arr = np.ones((3,4))\r\n",
        "print('원본배열', '\\n', arr)\r\n",
        "\r\n",
        "asarray = np.asarray(arr)   # 참조본 생성\r\n",
        "array = np.array(arr)       #복사본 생성\r\n",
        "\r\n",
        "arr[0]=0\r\n",
        "print('asarray, 참조본', '\\n', asarray)\r\n",
        "print('array, 복사본', '\\n', array)"
      ],
      "execution_count": null,
      "outputs": [
        {
          "output_type": "stream",
          "text": [
            "원본배열 \n",
            " [[1. 1. 1. 1.]\n",
            " [1. 1. 1. 1.]\n",
            " [1. 1. 1. 1.]]\n",
            "asarray, 참조본 \n",
            " [[0. 0. 0. 0.]\n",
            " [1. 1. 1. 1.]\n",
            " [1. 1. 1. 1.]]\n",
            "array, 복사본 \n",
            " [[1. 1. 1. 1.]\n",
            " [1. 1. 1. 1.]\n",
            " [1. 1. 1. 1.]]\n"
          ],
          "name": "stdout"
        }
      ]
    },
    {
      "cell_type": "code",
      "metadata": {
        "id": "YiyzxNm8A8sv"
      },
      "source": [
        ""
      ],
      "execution_count": null,
      "outputs": []
    }
  ]
}